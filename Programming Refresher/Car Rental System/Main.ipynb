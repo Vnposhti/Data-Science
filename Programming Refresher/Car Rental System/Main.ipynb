{
 "cells": [
  {
   "cell_type": "code",
   "execution_count": 1,
   "id": "d620d2b1-3a52-43b5-a3a4-ca28734db315",
   "metadata": {},
   "outputs": [
    {
     "name": "stdout",
     "output_type": "stream",
     "text": [
      "Welcome to Car Rental System..\n",
      "1.Display availble cars\n",
      "2.Rent cars\n",
      "3.Return cars\n",
      "4.Exit\n"
     ]
    },
    {
     "name": "stdin",
     "output_type": "stream",
     "text": [
      "Enter your choice: 1\n"
     ]
    },
    {
     "name": "stdout",
     "output_type": "stream",
     "text": [
      "Available no. of cars :  5\n",
      "Welcome to Car Rental System..\n",
      "1.Display availble cars\n",
      "2.Rent cars\n",
      "3.Return cars\n",
      "4.Exit\n"
     ]
    },
    {
     "name": "stdin",
     "output_type": "stream",
     "text": [
      "Enter your choice: 2\n",
      "How many cars would you like to rent ? -1\n"
     ]
    },
    {
     "name": "stdout",
     "output_type": "stream",
     "text": [
      "Enter valid Number of cars.\n",
      "Welcome to Car Rental System..\n",
      "1.Display availble cars\n",
      "2.Rent cars\n",
      "3.Return cars\n",
      "4.Exit\n"
     ]
    },
    {
     "name": "stdin",
     "output_type": "stream",
     "text": [
      "Enter your choice: 4\n"
     ]
    }
   ],
   "source": [
    "from CarRental import cars \n",
    "from Customera import customers\n",
    "\n",
    "def main():\n",
    "    car_obj=cars(5)\n",
    "    customer_obj=customers()\n",
    "    \n",
    "    while True:\n",
    "        print(\"Welcome to Car Rental System..\")\n",
    "        print(\"1.Display availble cars\")\n",
    "        print(\"2.Rent cars\")\n",
    "        print(\"3.Return cars\")\n",
    "        print(\"4.Exit\")\n",
    "    \n",
    "        choice = int(input(\"Enter your choice:\"))\n",
    "    \n",
    "        if(choice == 1):\n",
    "            car_obj.display_cars()\n",
    "        elif(choice == 2):\n",
    "            customer_obj.request_car(car_obj)\n",
    "        elif(choice == 3):\n",
    "            customer_obj.return_car(car_obj)\n",
    "        elif(choice == 4):\n",
    "            break\n",
    "        else:\n",
    "            print('Invalid Choice. Please enter number between 1-4')\n",
    "\n",
    "if __name__ == \"__main__\":\n",
    "    main()"
   ]
  },
  {
   "cell_type": "code",
   "execution_count": null,
   "id": "70a37edf-d02e-4281-8d5c-609d69e88c2a",
   "metadata": {},
   "outputs": [],
   "source": []
  }
 ],
 "metadata": {
  "kernelspec": {
   "display_name": "Python 3 (ipykernel)",
   "language": "python",
   "name": "python3"
  },
  "language_info": {
   "codemirror_mode": {
    "name": "ipython",
    "version": 3
   },
   "file_extension": ".py",
   "mimetype": "text/x-python",
   "name": "python",
   "nbconvert_exporter": "python",
   "pygments_lexer": "ipython3",
   "version": "3.11.7"
  }
 },
 "nbformat": 4,
 "nbformat_minor": 5
}
